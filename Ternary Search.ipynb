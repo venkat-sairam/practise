{
 "cells": [
  {
   "cell_type": "markdown",
   "id": "bc20dfb4",
   "metadata": {},
   "source": [
    "Recurrence Relation for Ternary Search: T(n) = T(n/3) + c \n",
    "\n",
    "$T(n) = O(log_{3}n) $"
   ]
  },
  {
   "cell_type": "code",
   "execution_count": 4,
   "id": "186a8a1c",
   "metadata": {},
   "outputs": [
    {
     "data": {
      "text/plain": [
       "8"
      ]
     },
     "execution_count": 4,
     "metadata": {},
     "output_type": "execute_result"
    }
   ],
   "source": [
    "\n",
    "# T(N) = T(N/3)+ C\n",
    "#Function Implementation\n",
    "def ternarySearch(arr, start, end, key):\n",
    "    \n",
    "    mid1 = start + (end-start)//3\n",
    "    mid2 = end- (end-start)//3\n",
    "    \n",
    "    while start<=end:\n",
    "        if arr[mid1] == key: return mid1\n",
    "        if arr[mid2] == key: return mid2\n",
    "        elif arr[mid1] > key:\n",
    "            return ternarySearch(arr, start, mid1-1, key)\n",
    "        elif arr[mid2]< key:\n",
    "            return ternarySearch(arr, mid2+1, end, key)\n",
    "        else:\n",
    "            return ternarySearch(arr, mid1+1, mid2-1, key)\n",
    "        \n",
    "    return -1\n",
    "\n",
    "\n",
    "# Driver Code\n",
    "\n",
    "arr=[20,25,47,56,59,63,65,79,82]\n",
    "ternarySearch(arr,0, len(arr)-1, 82)"
   ]
  },
  {
   "cell_type": "code",
   "execution_count": null,
   "id": "0d726955",
   "metadata": {},
   "outputs": [],
   "source": []
  },
  {
   "cell_type": "code",
   "execution_count": null,
   "id": "530d7a0c",
   "metadata": {},
   "outputs": [],
   "source": []
  }
 ],
 "metadata": {
  "kernelspec": {
   "display_name": "Python 3",
   "language": "python",
   "name": "python3"
  },
  "language_info": {
   "codemirror_mode": {
    "name": "ipython",
    "version": 3
   },
   "file_extension": ".py",
   "mimetype": "text/x-python",
   "name": "python",
   "nbconvert_exporter": "python",
   "pygments_lexer": "ipython3",
   "version": "3.8.8"
  }
 },
 "nbformat": 4,
 "nbformat_minor": 5
}
