{
 "cells": [
  {
   "cell_type": "code",
   "execution_count": 1,
   "id": "49060106-c073-4163-af91-b8b7f4cb9ac0",
   "metadata": {
    "tags": []
   },
   "outputs": [],
   "source": [
    "from pyspark.sql import SparkSession\n",
    "\n",
    "spark = (\n",
    "    SparkSession\n",
    "    .builder\n",
    "    .appName(\"read_from json\")\n",
    "    .config(\"spark.streaming.stopGracefullyOnShutdown\", True)\n",
    "    .master(\"local[*]\")\n",
    "    .getOrCreate()\n",
    ")"
   ]
  },
  {
   "cell_type": "code",
   "execution_count": 2,
   "id": "76802255-3eb7-4b15-bd8b-776fe9446ba9",
   "metadata": {
    "tags": []
   },
   "outputs": [
    {
     "data": {
      "text/html": [
       "\n",
       "            <div>\n",
       "                <p><b>SparkSession - in-memory</b></p>\n",
       "                \n",
       "        <div>\n",
       "            <p><b>SparkContext</b></p>\n",
       "\n",
       "            <p><a href=\"http://a485b40e9c91:4042\">Spark UI</a></p>\n",
       "\n",
       "            <dl>\n",
       "              <dt>Version</dt>\n",
       "                <dd><code>v3.3.0</code></dd>\n",
       "              <dt>Master</dt>\n",
       "                <dd><code>local[*]</code></dd>\n",
       "              <dt>AppName</dt>\n",
       "                <dd><code>read_from json</code></dd>\n",
       "            </dl>\n",
       "        </div>\n",
       "        \n",
       "            </div>\n",
       "        "
      ],
      "text/plain": [
       "<pyspark.sql.session.SparkSession at 0x7f12e2024310>"
      ]
     },
     "execution_count": 2,
     "metadata": {},
     "output_type": "execute_result"
    }
   ],
   "source": [
    "spark"
   ]
  },
  {
   "cell_type": "code",
   "execution_count": 3,
   "id": "ec7543d0-27fe-4335-a2de-2463c6bc4538",
   "metadata": {},
   "outputs": [],
   "source": [
    "_schema = \"customerId string, data struct<devices array<struct<deviceId string,measure string,temperature string>>>,  eventId string, eventOffset long, eventPublisher string, eventTime string\""
   ]
  },
  {
   "cell_type": "code",
   "execution_count": 4,
   "id": "29a470a4-4b0e-4f28-a9c5-a5b2408f1fac",
   "metadata": {
    "tags": []
   },
   "outputs": [],
   "source": [
    "### Batch processing logic\n",
    "\n",
    "#file_data_df = spark.read.format(\"json\").option(\"schema\", _schema).option(\"path\", \"inputs/file1.json\").load()\n",
    "\n",
    "### Streaming logic and configuration\n",
    "\n",
    "spark.conf.set(\"spark.sql.streaming.schemaInference\", True)\n",
    "\n",
    "streaming_df = (\n",
    "   spark\n",
    "    .readStream\n",
    "    .option(\"cleanSource\", \"archive\")\n",
    "    .option(\"sourceArchiveDir\", \"archive_dir\")\n",
    "    .option(\"maxFilesPerTrigger\", 1)\n",
    "    .format(\"json\")\n",
    "    .load(\"./inputs\")\n",
    ")"
   ]
  },
  {
   "cell_type": "code",
   "execution_count": 5,
   "id": "acffe7d4-1f50-4cfd-8ede-5d58536f1bb0",
   "metadata": {},
   "outputs": [],
   "source": [
    "# To allow automatic schemaInference while reading\n"
   ]
  },
  {
   "cell_type": "code",
   "execution_count": 6,
   "id": "b8bd5287-1db6-4a66-a231-751f0145f513",
   "metadata": {
    "tags": []
   },
   "outputs": [
    {
     "name": "stdout",
     "output_type": "stream",
     "text": [
      "root\n",
      " |-- customerId: string (nullable = true)\n",
      " |-- data: struct (nullable = true)\n",
      " |    |-- devices: array (nullable = true)\n",
      " |    |    |-- element: struct (containsNull = true)\n",
      " |    |    |    |-- deviceId: string (nullable = true)\n",
      " |    |    |    |-- measure: string (nullable = true)\n",
      " |    |    |    |-- status: string (nullable = true)\n",
      " |    |    |    |-- temperature: long (nullable = true)\n",
      " |-- eventId: string (nullable = true)\n",
      " |-- eventOffset: long (nullable = true)\n",
      " |-- eventPublisher: string (nullable = true)\n",
      " |-- eventTime: string (nullable = true)\n",
      "\n"
     ]
    }
   ],
   "source": [
    "streaming_df.printSchema()"
   ]
  },
  {
   "cell_type": "code",
   "execution_count": 7,
   "id": "6c96e161-fa29-4cb7-8dfb-57ab1955497b",
   "metadata": {
    "tags": []
   },
   "outputs": [],
   "source": [
    "# file_data_df.show(truncate=False)"
   ]
  },
  {
   "cell_type": "code",
   "execution_count": 8,
   "id": "39629e74-47d6-454a-acb7-a1df30fdbaab",
   "metadata": {
    "tags": []
   },
   "outputs": [],
   "source": [
    "from pyspark.sql.functions import explode, from_json, col\n",
    "\n",
    "exploded_devices_df = (\n",
    "    streaming_df\n",
    "    .withColumn(\"devices\", explode(streaming_df.data.devices))\n",
    ")"
   ]
  },
  {
   "cell_type": "code",
   "execution_count": 9,
   "id": "29328777-6670-49c9-bb5a-35daa090dda7",
   "metadata": {
    "tags": []
   },
   "outputs": [],
   "source": [
    "# exploded_devices_df.show()"
   ]
  },
  {
   "cell_type": "code",
   "execution_count": 10,
   "id": "7a75360d-c304-4352-a91f-fd3fe0e8a223",
   "metadata": {
    "tags": []
   },
   "outputs": [
    {
     "name": "stdout",
     "output_type": "stream",
     "text": [
      "root\n",
      " |-- customerId: string (nullable = true)\n",
      " |-- data: struct (nullable = true)\n",
      " |    |-- devices: array (nullable = true)\n",
      " |    |    |-- element: struct (containsNull = true)\n",
      " |    |    |    |-- deviceId: string (nullable = true)\n",
      " |    |    |    |-- measure: string (nullable = true)\n",
      " |    |    |    |-- status: string (nullable = true)\n",
      " |    |    |    |-- temperature: long (nullable = true)\n",
      " |-- eventId: string (nullable = true)\n",
      " |-- eventOffset: long (nullable = true)\n",
      " |-- eventPublisher: string (nullable = true)\n",
      " |-- eventTime: string (nullable = true)\n",
      " |-- devices: struct (nullable = true)\n",
      " |    |-- deviceId: string (nullable = true)\n",
      " |    |-- measure: string (nullable = true)\n",
      " |    |-- status: string (nullable = true)\n",
      " |    |-- temperature: long (nullable = true)\n",
      "\n"
     ]
    }
   ],
   "source": [
    "exploded_devices_df.printSchema()"
   ]
  },
  {
   "cell_type": "code",
   "execution_count": 11,
   "id": "b859431e-434b-4ebe-bb5a-201333c398eb",
   "metadata": {
    "tags": []
   },
   "outputs": [],
   "source": [
    "final_df = (\n",
    "    exploded_devices_df\n",
    "    .drop(\"data\")\n",
    "    .withColumn(\"deviceId\", col(\"devices.deviceId\"))\n",
    "    .withColumn(\"measure\", col(\"devices.measure\"))\n",
    "    .withColumn(\"status\", col(\"devices.status\"))\n",
    "    .withColumn(\"temperature\", col(\"devices.temperature\"))\n",
    "    .drop(\"devices\")\n",
    "    \n",
    ")"
   ]
  },
  {
   "cell_type": "code",
   "execution_count": 12,
   "id": "d9a66d8a-e8dd-44d4-952d-e25b1627d4d5",
   "metadata": {
    "tags": []
   },
   "outputs": [
    {
     "name": "stdout",
     "output_type": "stream",
     "text": [
      "root\n",
      " |-- customerId: string (nullable = true)\n",
      " |-- eventId: string (nullable = true)\n",
      " |-- eventOffset: long (nullable = true)\n",
      " |-- eventPublisher: string (nullable = true)\n",
      " |-- eventTime: string (nullable = true)\n",
      " |-- deviceId: string (nullable = true)\n",
      " |-- measure: string (nullable = true)\n",
      " |-- status: string (nullable = true)\n",
      " |-- temperature: long (nullable = true)\n",
      "\n"
     ]
    }
   ],
   "source": [
    "final_df.printSchema()"
   ]
  },
  {
   "cell_type": "code",
   "execution_count": 13,
   "id": "b46eb79c-953b-4c7c-8418-b4ff4dd0ab42",
   "metadata": {
    "tags": []
   },
   "outputs": [],
   "source": [
    "# final_df.show()"
   ]
  },
  {
   "cell_type": "code",
   "execution_count": null,
   "id": "45b74df2-f451-4965-bfac-ccba7b671f7f",
   "metadata": {
    "tags": []
   },
   "outputs": [],
   "source": [
    "# Write the output to console sink to check the output\n",
    "\n",
    "(final_df\n",
    " .writeStream\n",
    " .format(\"csv\")\n",
    " .outputMode(\"append\")\n",
    " .option(\"path\", \"output/device_data.csv\")\n",
    " .option(\"checkpointLocation\", \"checkpoint_dir\")\n",
    " .start()\n",
    " .awaitTermination())"
   ]
  },
  {
   "cell_type": "code",
   "execution_count": null,
   "id": "41761ae3-73bb-491e-9576-ddd2a425fc81",
   "metadata": {},
   "outputs": [],
   "source": []
  }
 ],
 "metadata": {
  "kernelspec": {
   "display_name": "Python 3 (ipykernel)",
   "language": "python",
   "name": "python3"
  },
  "language_info": {
   "codemirror_mode": {
    "name": "ipython",
    "version": 3
   },
   "file_extension": ".py",
   "mimetype": "text/x-python",
   "name": "python",
   "nbconvert_exporter": "python",
   "pygments_lexer": "ipython3",
   "version": "3.7.17"
  }
 },
 "nbformat": 4,
 "nbformat_minor": 5
}
